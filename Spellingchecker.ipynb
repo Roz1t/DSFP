{
  "cells": [
    {
      "cell_type": "markdown",
      "metadata": {
        "id": "view-in-github",
        "colab_type": "text"
      },
      "source": [
        "<a href=\"https://colab.research.google.com/github/Roz1t/DSFP/blob/main/Spellingchecker.ipynb\" target=\"_parent\"><img src=\"https://colab.research.google.com/assets/colab-badge.svg\" alt=\"Open In Colab\"/></a>"
      ]
    },
    {
      "cell_type": "markdown",
      "metadata": {
        "id": "x7QNWGoe0Ahr"
      },
      "source": [
        "# Spelling correction\n",
        "\n",
        "Rozit Lopchan(19951)"
      ]
    },
    {
      "cell_type": "markdown",
      "metadata": {
        "id": "tOQciI0E0AiD"
      },
      "source": [
        "first of all, we need some words. First we need some text, possibly from a file. Then we can break the text into words or tokens. I have a big text called train3.txt which I have saved in my local directry. This text file is from NLTK website. We can read it, and see how many characters are there in the file"
      ]
    },
    {
      "cell_type": "code",
      "execution_count": 2,
      "metadata": {
        "id": "0eOvnxXa0AiE",
        "outputId": "38e67ec2-eff3-4e06-b0f9-51fc26a9bd52",
        "colab": {
          "base_uri": "https://localhost:8080/"
        }
      },
      "outputs": [
        {
          "output_type": "stream",
          "name": "stdout",
          "text": [
            "Populating the interactive namespace from numpy and matplotlib\n"
          ]
        }
      ],
      "source": [
        "# importing preliminaries\n",
        "%pylab inline\n",
        "import re\n",
        "import math\n",
        "import string\n",
        "from collections import Counter\n",
        "from __future__ import division"
      ]
    },
    {
      "cell_type": "code",
      "execution_count": 3,
      "metadata": {
        "id": "4U-Lv8aY0AiG",
        "outputId": "9545ec6c-9b12-45d6-a123-07d284fe202f",
        "colab": {
          "base_uri": "https://localhost:8080/"
        }
      },
      "outputs": [
        {
          "output_type": "execute_result",
          "data": {
            "text/plain": [
              "6488666"
            ]
          },
          "metadata": {},
          "execution_count": 3
        }
      ],
      "source": [
        "TEXT = open('big1.txt', encoding='utf-8').read()\n",
        "len(TEXT)"
      ]
    },
    {
      "cell_type": "markdown",
      "metadata": {
        "id": "ZBN0uGFN0AiG"
      },
      "source": [
        "So, it's 28,42164 characters.\n",
        "\n",
        "Now let's break the text up into tokens. For now we'll ignore all the punctuation and numbers, and anything that is not a letter."
      ]
    },
    {
      "cell_type": "code",
      "execution_count": 4,
      "metadata": {
        "collapsed": true,
        "id": "yUlCEYXo0AiH"
      },
      "outputs": [],
      "source": [
        "def tokens(text):\n",
        "    \"List all the word tokens (consecutive letters) in a text. Normalize to lowercase.\"\n",
        "    return re.findall('[a-z]+', text.lower())"
      ]
    },
    {
      "cell_type": "code",
      "execution_count": 5,
      "metadata": {
        "id": "jYn2vwMU0AiH",
        "outputId": "fae9e537-2920-46d2-dc16-06525869ba8f",
        "colab": {
          "base_uri": "https://localhost:8080/"
        }
      },
      "outputs": [
        {
          "output_type": "execute_result",
          "data": {
            "text/plain": [
              "['hey', 'i', 'am', 'working', 'with', 'nltk']"
            ]
          },
          "metadata": {},
          "execution_count": 5
        }
      ],
      "source": [
        "tokens('Hey, I am working with NLTK..!')"
      ]
    },
    {
      "cell_type": "code",
      "execution_count": 6,
      "metadata": {
        "id": "BevpGEVa0AiI",
        "outputId": "edeb87c3-dcb9-46e8-8add-817032c9939f",
        "colab": {
          "base_uri": "https://localhost:8080/"
        }
      },
      "outputs": [
        {
          "output_type": "execute_result",
          "data": {
            "text/plain": [
              "1105285"
            ]
          },
          "metadata": {},
          "execution_count": 6
        }
      ],
      "source": [
        "WORDS = tokens(TEXT)\n",
        "len(WORDS)"
      ]
    },
    {
      "cell_type": "markdown",
      "metadata": {
        "id": "5aeldGSX0AiI"
      },
      "source": [
        "So, a million words. Here are the top 10 words:"
      ]
    },
    {
      "cell_type": "code",
      "execution_count": 7,
      "metadata": {
        "id": "lsu98p2W0AiI",
        "outputId": "93eb7b9d-2fc9-45a0-9a0c-4aa2628d0a68",
        "colab": {
          "base_uri": "https://localhost:8080/"
        }
      },
      "outputs": [
        {
          "output_type": "stream",
          "name": "stdout",
          "text": [
            "['the', 'project', 'gutenberg', 'ebook', 'of', 'the', 'adventures', 'of', 'sherlock', 'holmes']\n"
          ]
        }
      ],
      "source": [
        "print(WORDS[:10])"
      ]
    },
    {
      "cell_type": "markdown",
      "metadata": {
        "id": "OKuEHZpt0AiJ"
      },
      "source": [
        "Here we are using a model that is known as \"Bag of words\" We know that language is very complicated, but we can create a simplified model of language that captures part of the complexity. In this model, we avoid the order of words, but carry their frequencies. Here's a function to sample an n word sentence from a bag of words:"
      ]
    },
    {
      "cell_type": "code",
      "execution_count": 8,
      "metadata": {
        "collapsed": true,
        "id": "fnMIcRb_0AiJ"
      },
      "outputs": [],
      "source": [
        "def sample(bag, n=10):\n",
        "    \"Sample a random n-word sentence from the model described by the bag of words.\"\n",
        "    return ' '.join(random.choice(bag) for _ in range(n))"
      ]
    },
    {
      "cell_type": "code",
      "execution_count": 9,
      "metadata": {
        "id": "I8z4KAyQ0AiK",
        "outputId": "90d2fc5c-1679-405d-84fe-b11d6ffa8ac6",
        "colab": {
          "base_uri": "https://localhost:8080/",
          "height": 36
        }
      },
      "outputs": [
        {
          "output_type": "execute_result",
          "data": {
            "text/plain": [
              "'perturbation fatal service to has harp she m nerve be'"
            ],
            "application/vnd.google.colaboratory.intrinsic+json": {
              "type": "string"
            }
          },
          "metadata": {},
          "execution_count": 9
        }
      ],
      "source": [
        "sample(WORDS)"
      ]
    },
    {
      "cell_type": "code",
      "execution_count": 10,
      "metadata": {
        "id": "iD4MDx-K0AiK",
        "outputId": "b35e8cc1-3266-407a-b55b-cb5c17f7ee49",
        "colab": {
          "base_uri": "https://localhost:8080/"
        }
      },
      "outputs": [
        {
          "output_type": "execute_result",
          "data": {
            "text/plain": [
              "Counter({'hey': 1, 'this': 1, 'is': 1, 'the': 1, 'third': 1, 'exercise': 1})"
            ]
          },
          "metadata": {},
          "execution_count": 10
        }
      ],
      "source": [
        "Counter(tokens('Hey, this is the third exercise'))"
      ]
    },
    {
      "cell_type": "markdown",
      "metadata": {
        "id": "ZOTDEfLV0AiL"
      },
      "source": [
        "Another way to use this model is \"Counter\", which is a dictionary of {'word': count} pairs. see the below code:"
      ]
    },
    {
      "cell_type": "code",
      "execution_count": 11,
      "metadata": {
        "id": "hNLM1gmS0AiL",
        "outputId": "8c36cbe6-828c-4c26-e653-3be9ec930555",
        "colab": {
          "base_uri": "https://localhost:8080/"
        }
      },
      "outputs": [
        {
          "output_type": "stream",
          "name": "stdout",
          "text": [
            "[('the', 80030), ('of', 40025), ('and', 38313), ('to', 28766), ('in', 22050), ('a', 21155), ('that', 12512), ('he', 12401), ('was', 11410), ('it', 10681)]\n"
          ]
        }
      ],
      "source": [
        "COUNTS = Counter(WORDS)\n",
        "\n",
        "print (COUNTS.most_common(10))"
      ]
    },
    {
      "cell_type": "markdown",
      "metadata": {
        "id": "1cQmhV-80AiL"
      },
      "source": [
        "A Counter is like a dict, but with a few extra methods. one can see the differences below -"
      ]
    },
    {
      "cell_type": "code",
      "execution_count": 12,
      "metadata": {
        "id": "uTfy0Iid0AiM",
        "outputId": "733d135f-8aea-4bf9-b3aa-8d122f306536",
        "colab": {
          "base_uri": "https://localhost:8080/"
        }
      },
      "outputs": [
        {
          "output_type": "stream",
          "name": "stdout",
          "text": [
            "7 pound\n",
            "9774 is\n",
            "65 widely\n",
            "126 expected\n",
            "28766 to\n",
            "616 take\n",
            "841 another\n",
            "83 sharp\n",
            "86 drive\n"
          ]
        }
      ],
      "source": [
        "for w in tokens('pound is widely expected to take another sharp drive '):\n",
        "    print (COUNTS[w], w)"
      ]
    },
    {
      "cell_type": "markdown",
      "metadata": {
        "id": "mT1GWwhs0AiM"
      },
      "source": [
        "linguist 'George Zipf' Doctorate from Harvard, noted that in any big text file, the nth most frequent word appears with a frequency of about 1/n. He is the enventor of Zipf's Law. If we plot the frequency of words, most common first, on a log-log plot, they should come out as a straight line if Zipf's Law holds. Here we see that it is a fairly close fit:"
      ]
    },
    {
      "cell_type": "code",
      "execution_count": 13,
      "metadata": {
        "id": "MZvUUXsw0AiN",
        "outputId": "56ed1894-32f7-4d95-df45-40b6e25dd189",
        "colab": {
          "base_uri": "https://localhost:8080/",
          "height": 457
        }
      },
      "outputs": [
        {
          "output_type": "display_data",
          "data": {
            "text/plain": [
              "<Figure size 640x480 with 1 Axes>"
            ],
            "image/png": "[encoded data removed]"
          },
          "metadata": {}
        }
      ],
      "source": [
        "M = COUNTS['is']\n",
        "yscale('log'); xscale('log'); title('Frequency of n-th most frequent word and 1/n line.')\n",
        "plot([c for (w, c) in COUNTS.most_common()])\n",
        "plot([M/i for i in range(1, len(COUNTS)+1)]);"
      ]
    },
    {
      "cell_type": "markdown",
      "metadata": {
        "id": "mml8HAGJ0AiN"
      },
      "source": [
        "Given a word w, find the most likely correction c = correct(w).\n",
        "\n",
        "Approach: Try all candidate words c that are known words that are near w. Choose the most likely one.\n",
        "\n",
        "How to balance near and likely?\n",
        "\n",
        "For this time we always prefer nearer, but when there is a tie on nearness, then the program use the word with the highest WORDS count. to Measure nearness we are going to use edit distance.I have determined that going out to edit distance 2 will give us reasonable results. Then we can define correct(w)"
      ]
    },
    {
      "cell_type": "code",
      "execution_count": 14,
      "metadata": {
        "collapsed": true,
        "id": "PeapvZFk0AiO"
      },
      "outputs": [],
      "source": [
        "def correct(word):\n",
        "    \"Find the best spelling correction for this word.\"\n",
        "    candidates = (known(edits0(word)) or\n",
        "                  known(edits1(word)) or\n",
        "                  known(edits2(word)) or\n",
        "                  [word])\n",
        "    return max(candidates, key=COUNTS.get)"
      ]
    },
    {
      "cell_type": "markdown",
      "metadata": {
        "id": "OLgfc_xJ0AiO"
      },
      "source": [
        "The functions known and edits0 are easy; and edits2 is easy if we assume we have edits1"
      ]
    },
    {
      "cell_type": "code",
      "execution_count": 15,
      "metadata": {
        "collapsed": true,
        "id": "b2PU_V1A0AiO"
      },
      "outputs": [],
      "source": [
        "def known(words):\n",
        "    \"Return the subset of words that are actually in the dictionary.\"\n",
        "    return {w for w in words if w in COUNTS}\n",
        "\n",
        "def edits0(word):\n",
        "    \"Return all strings that are zero edits away from word (i.e., just word itself).\"\n",
        "    return {word}\n",
        "\n",
        "def edits2(word):\n",
        "    \"Return all strings that are two edits away from this word.\"\n",
        "    return {e2 for e1 in edits1(word) for e2 in edits1(e1)}"
      ]
    },
    {
      "cell_type": "markdown",
      "metadata": {
        "id": "OPAtQ9Mr0AiP"
      },
      "source": [
        "Now for edits1(word): the set of candidate words that are one edit away. For example, given \"speech\", this would include \"sepech\"and also \"spechz\". One can see this in the code below in(print (edits1('speech')) Then How could we detect them? One way is to split the original word in all possible places, each split forming a pair of words, (a, b), before and after the place, and at each place, either delete, transpose, replace, or insert a letter."
      ]
    },
    {
      "cell_type": "code",
      "execution_count": 16,
      "metadata": {
        "collapsed": true,
        "id": "oKnxn-Xy0AiP"
      },
      "outputs": [],
      "source": [
        "def edits1(word):\n",
        "    \"Return all strings that are one edit away from this word.\"\n",
        "    pairs      = splits(word)\n",
        "    deletes    = [a+b[1:]           for (a, b) in pairs if b]\n",
        "    transposes = [a+b[1]+b[0]+b[2:] for (a, b) in pairs if len(b) > 1]\n",
        "    replaces   = [a+c+b[1:]         for (a, b) in pairs for c in alphabet if b]\n",
        "    inserts    = [a+c+b             for (a, b) in pairs for c in alphabet]\n",
        "    return set(deletes + transposes + replaces + inserts)\n",
        "\n",
        "def splits(word):\n",
        "    \"Return a list of all possible (first, rest) pairs that comprise word.\"\n",
        "    return [(word[:i], word[i:])\n",
        "            for i in range(len(word)+1)]\n",
        "\n",
        "alphabet = 'abcdefghijklmnopqrstuvwxyz'"
      ]
    },
    {
      "cell_type": "code",
      "execution_count": 17,
      "metadata": {
        "id": "KDaKqzSm0AiP",
        "outputId": "700a918f-0138-4a4b-9dc2-99cc125e398f",
        "colab": {
          "base_uri": "https://localhost:8080/"
        }
      },
      "outputs": [
        {
          "output_type": "execute_result",
          "data": {
            "text/plain": [
              "[('', 'speech'),\n",
              " ('s', 'peech'),\n",
              " ('sp', 'eech'),\n",
              " ('spe', 'ech'),\n",
              " ('spee', 'ch'),\n",
              " ('speec', 'h'),\n",
              " ('speech', '')]"
            ]
          },
          "metadata": {},
          "execution_count": 17
        }
      ],
      "source": [
        "splits('speech')"
      ]
    },
    {
      "cell_type": "code",
      "execution_count": 18,
      "metadata": {
        "id": "50hk5dGt0AiQ",
        "outputId": "4a50be87-67c1-454b-da98-7654eebcb4ae",
        "colab": {
          "base_uri": "https://localhost:8080/"
        }
      },
      "outputs": [
        {
          "output_type": "stream",
          "name": "stdout",
          "text": [
            "{'speech'}\n"
          ]
        }
      ],
      "source": [
        "print (edits0('speech'))"
      ]
    },
    {
      "cell_type": "code",
      "execution_count": 19,
      "metadata": {
        "scrolled": true,
        "id": "V5Tk4MZL0AiQ",
        "outputId": "0b0907d6-e33c-4c85-9e2d-e1070ee44060",
        "colab": {
          "base_uri": "https://localhost:8080/"
        }
      },
      "outputs": [
        {
          "output_type": "stream",
          "name": "stdout",
          "text": [
            "{'speeche', 'speech', 'spemech', 'sgpeech', 'uspeech', 'speexch', 'dpeech', 'speecah', 'spejch', 'spqeech', 'speych', 'nspeech', 'spenech', 'speich', 'speeqch', 'sceech', 'speegch', 'speench', 'sopeech', 'speecl', 'speechm', 'speeckh', 'spezech', 'speechx', 'speechb', 'speetch', 'svpeech', 'stpeech', 'pseech', 'speemch', 'spoech', 'speec', 'speechp', 'speeth', 'spaeech', 'speecch', 'kspeech', 'sxeech', 'sqeech', 'aspeech', 'speecbh', 'spxeech', 'spjech', 'sspeech', 'tspeech', 'spehch', 'speefch', 'spmeech', 'speechi', 'speuch', 'speechf', 'speeclh', 'lspeech', 'spegech', 'speewch', 'spsech', 'speechu', 'sjpeech', 'saeech', 'spedech', 'spaech', 'spefch', 'spebech', 'speecv', 'spekech', 'speelh', 'speesch', 'speeech', 'speeci', 'speaech', 'espeech', 'sxpeech', 'qspeech', 'zpeech', 'spefech', 'speeych', 'spkech', 'speejh', 'spevech', 'speecx', 'sheech', 'sueech', 'spelech', 'spyech', 'rpeech', 'speecz', 'speect', 'speecn', 'sdpeech', 'speeca', 'speevh', 'spceech', 'speedch', 'speece', 'lpeech', 'specch', 'speekh', 'speecg', 'speecgh', 'mpeech', 'speewh', 'speeuh', 'ospeech', 'splech', 'speechc', 'syeech', 'spweech', 'spnech', 'specech', 'speeach', 'sleech', 'speekch', 'speecdh', 'bspeech', 'speach', 'speecd', 'speecmh', 'speehh', 'shpeech', 'spveech', 'spelch', 'spench', 'speecvh', 'kpeech', 'speechn', 'gpeech', 'speecha', 'spegch', 'speecr', 'speexh', 'speepch', 'spdeech', 'spjeech', 'speecth', 'speeuch', 'speeh', 'speecp', 'spedch', 'vspeech', 'speeoch', 'speqch', 'speeqh', 'spexech', 'spesch', 'spvech', 'spieech', 'zspeech', 'speechw', 'sneech', 'speecxh', 'mspeech', 'speebch', 'sbeech', 'apeech', 'sptech', 'speechv', 'soeech', 'speelch', 'spzeech', 'wspeech', 'spheech', 'speerh', 'spseech', 'spteech', 'spebch', 'sbpeech', 'speecy', 'speeeh', 'speecc', 'speecht', 'speerch', 'upeech', 'sapeech', 'speeck', 'spehech', 'speeceh', 'spzech', 'speechg', 'sfeech', 'spcech', 'spepech', 'spevch', 'speehc', 'spetech', 'spech', 'speezh', 'sseech', 'speecuh', 'speezch', 'sqpeech', 'spqech', 'speecw', 'smpeech', 'speecb', 'spbech', 'speegh', 'spezch', 'spleech', 'bpeech', 'spexch', 'speecwh', 'sphech', 'speefh', 'gspeech', 'steech', 'spoeech', 'sepeech', 'sprech', 'speecj', 'spewch', 'spewech', 'swpeech', 'speecm', 'spreech', 'pspeech', 'skpeech', 'spejech', 'speevch', 'ypeech', 'speecih', 'szeech', 'spetch', 'speejch', 'speehch', 'sperch', 'speechy', 'scpeech', 'xpeech', 'speechj', 'speeih', 'spekch', 'ipeech', 'speechh', 'speebh', 'speecfh', 'speenh', 'speeph', 'speesh', 'hspeech', 'sgeech', 'speechs', 'vpeech', 'speeah', 'skeech', 'seeech', 'speoech', 'speecf', 'speecu', 'spgech', 'speemh', 'seech', 'spueech', 'epeech', 'speecph', 'snpeech', 'speecqh', 'spkeech', 'hpeech', 'fspeech', 'tpeech', 'spfech', 'sjeech', 'sypeech', 'srpeech', 'spesech', 'speecho', 'wpeech', 'sdeech', 'slpeech', 'spneech', 'smeech', 'speeco', 'dspeech', 'sipeech', 'spepch', 'spbeech', 'speechd', 'speoch', 'spwech', 'speecjh', 'ppeech', 'sppeech', 'sfpeech', 'spiech', 'speechz', 'cpeech', 'rspeech', 'sweech', 'supeech', 'sreech', 'speechr', 'spemch', 'speecoh', 'speyech', 'spgeech', 'jpeech', 'speecs', 'speecsh', 'speechk', 'qpeech', 'speecq', 'speechq', 'speecyh', 'spuech', 'opeech', 'speechl', 'speeczh', 'spfeech', 'sppech', 'yspeech', 'cspeech', 'speiech', 'speecrh', 'speuech', 'xspeech', 'npeech', 'speeoh', 'spdech', 'fpeech', 'speeich', 'spyeech', 'speecnh', 'speceh', 'speeyh', 'jspeech', 'peech', 'sepech', 'sieech', 'ispeech', 'spxech', 'speedh', 'szpeech', 'spmech', 'sveech', 'sperech', 'speqech'}\n"
          ]
        }
      ],
      "source": [
        "print (edits1('speech'))"
      ]
    },
    {
      "cell_type": "code",
      "execution_count": 20,
      "metadata": {
        "id": "xEct-lZ90AiR",
        "outputId": "e4013514-084a-4f47-9aa5-07cc8b917ac7",
        "colab": {
          "base_uri": "https://localhost:8080/"
        }
      },
      "outputs": [
        {
          "output_type": "stream",
          "name": "stdout",
          "text": [
            "51013\n"
          ]
        }
      ],
      "source": [
        "print (len(edits2('speech')))"
      ]
    },
    {
      "cell_type": "code",
      "execution_count": 21,
      "metadata": {
        "id": "0dS-SCmX0AiR",
        "outputId": "2305b826-228e-4022-c09a-1055b2f865b2",
        "colab": {
          "base_uri": "https://localhost:8080/"
        }
      },
      "outputs": [
        {
          "output_type": "execute_result",
          "data": {
            "text/plain": [
              "<map at 0x79dcd57ce650>"
            ]
          },
          "metadata": {},
          "execution_count": 21
        }
      ],
      "source": [
        "map(correct, tokens('speech eis not good'))"
      ]
    },
    {
      "cell_type": "code",
      "execution_count": 22,
      "metadata": {
        "collapsed": true,
        "id": "zUyd90VF0AiS"
      },
      "outputs": [],
      "source": [
        "def correct_text(text):\n",
        "    \"Correct all the words within a text, returning the corrected text.\"\n",
        "    return re.sub('[a-zA-Z]+', correct_match, text)\n",
        "\n",
        "def correct_match(match):\n",
        "    \"Spell-correct word in match, and preserve proper upper/lower/title case.\"\n",
        "    word = match.group()\n",
        "    return case_of(word)(correct(word.lower()))\n",
        "\n",
        "def case_of(text):\n",
        "    \"Return the case-function appropriate for text: upper, lower, title, or just str.\"\n",
        "    return (str.upper if text.isupper() else\n",
        "            str.lower if text.islower() else\n",
        "            str.title if text.istitle() else\n",
        "            str)"
      ]
    },
    {
      "cell_type": "code",
      "execution_count": 23,
      "metadata": {
        "id": "5SK1vED90AiS",
        "outputId": "679ade98-4d48-4746-c4b0-2fb3c9086aac",
        "colab": {
          "base_uri": "https://localhost:8080/"
        }
      },
      "outputs": [
        {
          "output_type": "execute_result",
          "data": {
            "text/plain": [
              "<map at 0x79dcd57cf4f0>"
            ]
          },
          "metadata": {},
          "execution_count": 23
        }
      ],
      "source": [
        "map(case_of, ['UPPER', 'lower', 'Title', 'CamelCase'])"
      ]
    },
    {
      "cell_type": "code",
      "execution_count": 24,
      "metadata": {
        "id": "tbZa7vLs0AiS",
        "outputId": "1eb285e5-47bf-421d-918d-f65231d2baf0",
        "colab": {
          "base_uri": "https://localhost:8080/",
          "height": 36
        }
      },
      "outputs": [
        {
          "output_type": "execute_result",
          "data": {
            "text/plain": [
              "'speech is not good'"
            ],
            "application/vnd.google.colaboratory.intrinsic+json": {
              "type": "string"
            }
          },
          "metadata": {},
          "execution_count": 24
        }
      ],
      "source": [
        "correct_text('spech is noot goad')"
      ]
    },
    {
      "cell_type": "code",
      "execution_count": 25,
      "metadata": {
        "id": "pknJnwmX0AiT",
        "outputId": "9be4e25f-d3af-4a1d-acbe-b2d136e2994a",
        "colab": {
          "base_uri": "https://localhost:8080/",
          "height": 36
        }
      },
      "outputs": [
        {
          "output_type": "execute_result",
          "data": {
            "text/plain": [
              "'have you dane that project'"
            ],
            "application/vnd.google.colaboratory.intrinsic+json": {
              "type": "string"
            }
          },
          "metadata": {},
          "execution_count": 25
        }
      ],
      "source": [
        "correct_text('havee yoo dane thaat projecct')"
      ]
    },
    {
      "cell_type": "code",
      "execution_count": 26,
      "metadata": {
        "id": "yV2mSWxC0AiT",
        "outputId": "8a6011c1-dedd-41e7-8de0-d300ce538566",
        "colab": {
          "base_uri": "https://localhost:8080/",
          "height": 36
        }
      },
      "outputs": [
        {
          "output_type": "execute_result",
          "data": {
            "text/plain": [
              "'Professor is a nice person'"
            ],
            "application/vnd.google.colaboratory.intrinsic+json": {
              "type": "string"
            }
          },
          "metadata": {},
          "execution_count": 26
        }
      ],
      "source": [
        "correct_text('Profesor is a nyce persan')"
      ]
    },
    {
      "cell_type": "code",
      "execution_count": 27,
      "metadata": {
        "id": "wXAuYTlb0AiU",
        "outputId": "a548ad1e-2b53-49a0-822e-cd6e99c38e88",
        "colab": {
          "base_uri": "https://localhost:8080/"
        }
      },
      "outputs": [
        {
          "output_type": "stream",
          "name": "stdout",
          "text": [
            "Accuracy: 74.67%\n"
          ]
        },
        {
          "output_type": "stream",
          "name": "stderr",
          "text": [
            "<ipython-input-27-1f6ef8d84773>:9: DeprecationWarning: Calling np.sum(generator) is deprecated, and in the future will give a different result. Use np.sum(np.fromiter(generator)) or the python sum builtin instead.\n",
            "  num_correct = sum(1 for input_word, corrected_word in zip(input_words, corrected_words) if input_word == corrected_word)\n"
          ]
        }
      ],
      "source": [
        "def calculate_accuracy(input_texts, corrected_texts):\n",
        "    total_correct = 0\n",
        "    total_words = 0\n",
        "\n",
        "    for input_text, corrected_text in zip(input_texts, corrected_texts):\n",
        "        input_words = tokens(input_text)\n",
        "        corrected_words = tokens(corrected_text)\n",
        "\n",
        "        num_correct = sum(1 for input_word, corrected_word in zip(input_words, corrected_words) if input_word == corrected_word)\n",
        "        total_correct += num_correct\n",
        "        total_words += len(input_words)\n",
        "\n",
        "    accuracy = total_correct / total_words * 100\n",
        "    return accuracy\n",
        "\n",
        "input_texts = [\n",
        "    'Profesor is a nyce persan',\n",
        "    'Ths quick brown fox juped ovre the lazy dog',\n",
        "    'I have a pen. I have a apple.',\n",
        "    'To be, or not to be, that is the qustion',\n",
        "    'She is going to ther movi tonight',\n",
        "    'I am goin to the market to buy some fruts',\n",
        "    'The weathar is very pleasent today',\n",
        "    'I want to eat choklate cak',\n",
        "    'This sentnce contains speling errors',\n",
        "    'The quick broown foks jumps over the lazy dog'\n",
        "]\n",
        "\n",
        "corrected_texts = [correct_text(text) for text in input_texts]\n",
        "\n",
        "accuracy = calculate_accuracy(input_texts, corrected_texts)\n",
        "print(f\"Accuracy: {accuracy:.2f}%\")\n"
      ]
    },
    {
      "cell_type": "code",
      "execution_count": 27,
      "metadata": {
        "id": "NfyG0czL0AiU"
      },
      "outputs": [],
      "source": []
    }
  ],
  "metadata": {
    "kernelspec": {
      "display_name": "Python [default]",
      "language": "python",
      "name": "python3"
    },
    "language_info": {
      "codemirror_mode": {
        "name": "ipython",
        "version": 3
      },
      "file_extension": ".py",
      "mimetype": "text/x-python",
      "name": "python",
      "nbconvert_exporter": "python",
      "pygments_lexer": "ipython3",
      "version": "3.12.2"
    },
    "colab": {
      "provenance": [],
      "include_colab_link": true
    }
  },
  "nbformat": 4,
  "nbformat_minor": 0
}